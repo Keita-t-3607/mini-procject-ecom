{
 "cells": [
  {
   "cell_type": "code",
   "execution_count": null,
   "metadata": {
    "vscode": {
     "languageId": "plaintext"
    }
   },
   "outputs": [],
   "source": [
    "def add_to_cart():\n",
    "    product_to_cart = input(\"Which product would you like to add? \")\n",
    "    cart.append(product_to_cart)\n",
    "    choice = input(\"Would you like to add more? Y/N\")\n",
    "    while True:\n",
    "        if choice == \"N\":\n",
    "            break"
   ]
  }
 ],
 "metadata": {
  "language_info": {
   "name": "python"
  }
 },
 "nbformat": 4,
 "nbformat_minor": 2
}
