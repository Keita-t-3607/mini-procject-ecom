{
 "cells": [
  {
   "cell_type": "markdown",
   "metadata": {},
   "source": [
    "# Project"
   ]
  },
  {
   "cell_type": "code",
   "execution_count": 13,
   "metadata": {},
   "outputs": [
    {
     "name": "stdout",
     "output_type": "stream",
     "text": [
      "\n",
      "=== products ===\n",
      "+----+------------+--------+-------+\n",
      "| id |    name    | price  | stock |\n",
      "+----+------------+--------+-------+\n",
      "| 1  |   Laptop   | 999.99 |  10   |\n",
      "| 2  | Smartphone | 499.99 |  15   |\n",
      "+----+------------+--------+-------+\n",
      "    \n"
     ]
    }
   ],
   "source": [
    "from tabulate import tabulate\n",
    "\n",
    "# product = [\n",
    "#     {\"ID\":\"1\",\"name\": \"Laptop\", \"price\": \"$999.99\", \"quantity\": \"10\"},\n",
    "#     {\"ID\":\"2\",\"name\": \"Smartphone\", \"price\": \"$499.99\", \"quantity\": \"15\"},\n",
    "#     {\"ID\":\"2\",\"name\": \"Headphones\", \"price\": \"$99.99\", \"quantity\": \"20\"},\n",
    "# ]\n",
    "\n",
    "products = [\n",
    "    {\n",
    "        \"id\": 1,\n",
    "        \"name\": \"Laptop\",\n",
    "        \"price\": 999.99,\n",
    "        \"stock\": 10\n",
    "    },\n",
    "    {\n",
    "        \"id\": 2,\n",
    "        \"name\": \"Smartphone\",\n",
    "        \"price\": 499.99,\n",
    "        \"stock\": 15\n",
    "    }\n",
    "]\n",
    "\n",
    "print(f'''\n",
    "=== products ===\n",
    "{tabulate(products, headers=\"keys\", tablefmt=\"pretty\")}\n",
    "    ''')"
   ]
  },
  {
   "cell_type": "code",
   "execution_count": 14,
   "metadata": {},
   "outputs": [
    {
     "ename": "NameError",
     "evalue": "name 'variable' is not defined",
     "output_type": "error",
     "traceback": [
      "\u001b[1;31m---------------------------------------------------------------------------\u001b[0m",
      "\u001b[1;31mNameError\u001b[0m                                 Traceback (most recent call last)",
      "Cell \u001b[1;32mIn[14], line 2\u001b[0m\n\u001b[0;32m      1\u001b[0m cart \u001b[38;5;241m=\u001b[39m []\n\u001b[1;32m----> 2\u001b[0m cart\u001b[38;5;241m.\u001b[39mappend(\u001b[43mvariable\u001b[49m)\n\u001b[0;32m      4\u001b[0m \u001b[38;5;28mprint\u001b[39m(\u001b[38;5;124mf\u001b[39m\u001b[38;5;124m'''\u001b[39m\n\u001b[0;32m      5\u001b[0m \u001b[38;5;124m=== yourcart ===\u001b[39m\n\u001b[0;32m      6\u001b[0m \u001b[38;5;132;01m{\u001b[39;00mtabulate(cart,\u001b[38;5;250m \u001b[39mheaders\u001b[38;5;241m=\u001b[39m\u001b[38;5;124m\"\u001b[39m\u001b[38;5;124mkeys\u001b[39m\u001b[38;5;124m\"\u001b[39m,\u001b[38;5;250m \u001b[39mtablefmt\u001b[38;5;241m=\u001b[39m\u001b[38;5;124m\"\u001b[39m\u001b[38;5;124mpretty\u001b[39m\u001b[38;5;124m\"\u001b[39m)\u001b[38;5;132;01m}\u001b[39;00m\n\u001b[0;32m      7\u001b[0m \u001b[38;5;124mTotal Amount: \u001b[39m\u001b[38;5;132;01m{\u001b[39;00m\u001b[38;5;28msum\u001b[39m(cart[\u001b[38;5;124m\"\u001b[39m\u001b[38;5;124mprice\u001b[39m\u001b[38;5;124m\"\u001b[39m])\u001b[38;5;132;01m}\u001b[39;00m\n\u001b[0;32m      8\u001b[0m \u001b[38;5;124m    \u001b[39m\u001b[38;5;124m'''\u001b[39m)\n",
      "\u001b[1;31mNameError\u001b[0m: name 'variable' is not defined"
     ]
    }
   ],
   "source": [
    "cart = []\n",
    "cart.append(variable)\n",
    "\n",
    "print(f'''\n",
    "=== yourcart ===\n",
    "{tabulate(cart, headers=\"keys\", tablefmt=\"pretty\")}\n",
    "Total Amount: {sum(cart[\"price\"])}\n",
    "    ''')"
   ]
  }
 ],
 "metadata": {
  "kernelspec": {
   "display_name": "myenv",
   "language": "python",
   "name": "python3"
  },
  "language_info": {
   "codemirror_mode": {
    "name": "ipython",
    "version": 3
   },
   "file_extension": ".py",
   "mimetype": "text/x-python",
   "name": "python",
   "nbconvert_exporter": "python",
   "pygments_lexer": "ipython3",
   "version": "3.13.0"
  }
 },
 "nbformat": 4,
 "nbformat_minor": 2
}
